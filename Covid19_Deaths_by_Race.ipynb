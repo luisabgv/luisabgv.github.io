{
  "nbformat": 4,
  "nbformat_minor": 0,
  "metadata": {
    "colab": {
      "name": "Untitled0.ipynb",
      "provenance": [],
      "collapsed_sections": [],
      "mount_file_id": "1Yo9U0dynJRgIUOQu___E0JbZojhFnIjW",
      "authorship_tag": "ABX9TyMQ0ZoMdtkxpmLK7EQ6Ye4N",
      "include_colab_link": true
    },
    "kernelspec": {
      "name": "python3",
      "display_name": "Python 3"
    },
    "language_info": {
      "name": "python"
    }
  },
  "cells": [
    {
      "cell_type": "markdown",
      "metadata": {
        "id": "view-in-github",
        "colab_type": "text"
      },
      "source": [
        "<a href=\"https://colab.research.google.com/github/luisabgv/luisabgv.github.io/blob/master/Covid19_Deaths_by_Race.ipynb\" target=\"_parent\"><img src=\"https://colab.research.google.com/assets/colab-badge.svg\" alt=\"Open In Colab\"/></a>"
      ]
    },
    {
      "cell_type": "code",
      "metadata": {
        "id": "OelgldmxMKB0"
      },
      "source": [
        "#Import Pandas Library\n",
        "import pandas as pd"
      ],
      "execution_count": 220,
      "outputs": []
    },
    {
      "cell_type": "code",
      "metadata": {
        "id": "ees8d564eLvi"
      },
      "source": [
        "# Provisional COVID-19 Death Counts by County and Race\n",
        "# https://catalog.data.gov/dataset/provisional-covid-19-death-counts-by-county-and-race-330af"
      ],
      "execution_count": null,
      "outputs": []
    },
    {
      "cell_type": "code",
      "metadata": {
        "id": "Ndb53iU234aP"
      },
      "source": [
        "pd.options.display.float_format = '{:.2f}'.format"
      ],
      "execution_count": 235,
      "outputs": []
    },
    {
      "cell_type": "code",
      "metadata": {
        "id": "Xe1WUdbtMdXv"
      },
      "source": [
        "#load data COVID-19 death counts by county and race\n",
        "data = pd.read_csv(\"/content/drive/MyDrive/datasets/Provisional_COVID-19_Death_Counts_by_County_and_Race.csv\")"
      ],
      "execution_count": 236,
      "outputs": []
    },
    {
      "cell_type": "code",
      "metadata": {
        "colab": {
          "base_uri": "https://localhost:8080/"
        },
        "id": "1T6EJonpMh42",
        "outputId": "920a728b-fba2-4362-9b32-88530de27d2a"
      },
      "source": [
        "#check num of rows and columns \n",
        "data.shape"
      ],
      "execution_count": 237,
      "outputs": [
        {
          "output_type": "execute_result",
          "data": {
            "text/plain": [
              "(2199, 21)"
            ]
          },
          "metadata": {
            "tags": []
          },
          "execution_count": 237
        }
      ]
    },
    {
      "cell_type": "code",
      "metadata": {
        "colab": {
          "base_uri": "https://localhost:8080/"
        },
        "id": "JZ9DAFdEXQYM",
        "outputId": "8480f02c-9240-48f4-ac82-e314c7e93693"
      },
      "source": [
        "#Get info about my data frame\n",
        "data.info()"
      ],
      "execution_count": 238,
      "outputs": [
        {
          "output_type": "stream",
          "text": [
            "<class 'pandas.core.frame.DataFrame'>\n",
            "RangeIndex: 2199 entries, 0 to 2198\n",
            "Data columns (total 21 columns):\n",
            " #   Column                                                  Non-Null Count  Dtype  \n",
            "---  ------                                                  --------------  -----  \n",
            " 0   Data as of                                              2199 non-null   object \n",
            " 1   Start Date                                              2199 non-null   object \n",
            " 2   End Date                                                2199 non-null   object \n",
            " 3   State                                                   2199 non-null   object \n",
            " 4   County Name                                             2199 non-null   object \n",
            " 5   Urban Rural Code                                        2199 non-null   int64  \n",
            " 6   FIPS State                                              2199 non-null   int64  \n",
            " 7   FIPS County                                             2199 non-null   int64  \n",
            " 8   FIPS Code                                               2199 non-null   int64  \n",
            " 9   Indicator                                               2199 non-null   object \n",
            " 10  Total deaths                                            2199 non-null   int64  \n",
            " 11  COVID-19 Deaths                                         2199 non-null   int64  \n",
            " 12  Non-Hispanic White                                      2197 non-null   float64\n",
            " 13  Non-Hispanic Black                                      1896 non-null   float64\n",
            " 14  Non-Hispanic American Indian or Alaska Native           1032 non-null   float64\n",
            " 15  Non-Hispanic Asian                                      1375 non-null   float64\n",
            " 16  Non-Hispanic Native Hawaiian or Other Pacific Islander  809 non-null    float64\n",
            " 17  Hispanic                                                1744 non-null   float64\n",
            " 18  Other                                                   1121 non-null   float64\n",
            " 19  Urban Rural Description                                 2199 non-null   object \n",
            " 20  Footnote                                                1404 non-null   object \n",
            "dtypes: float64(7), int64(6), object(8)\n",
            "memory usage: 360.9+ KB\n"
          ],
          "name": "stdout"
        }
      ]
    },
    {
      "cell_type": "code",
      "metadata": {
        "colab": {
          "base_uri": "https://localhost:8080/",
          "height": 419
        },
        "id": "_RuxIy8gVpr3",
        "outputId": "94cd402c-0487-4b3d-bd9e-729a8217e9b3"
      },
      "source": [
        "#Get an overview of my data (description)\n",
        "data.describe()"
      ],
      "execution_count": 239,
      "outputs": [
        {
          "output_type": "execute_result",
          "data": {
            "text/html": [
              "<div>\n",
              "<style scoped>\n",
              "    .dataframe tbody tr th:only-of-type {\n",
              "        vertical-align: middle;\n",
              "    }\n",
              "\n",
              "    .dataframe tbody tr th {\n",
              "        vertical-align: top;\n",
              "    }\n",
              "\n",
              "    .dataframe thead th {\n",
              "        text-align: right;\n",
              "    }\n",
              "</style>\n",
              "<table border=\"1\" class=\"dataframe\">\n",
              "  <thead>\n",
              "    <tr style=\"text-align: right;\">\n",
              "      <th></th>\n",
              "      <th>Urban Rural Code</th>\n",
              "      <th>FIPS State</th>\n",
              "      <th>FIPS County</th>\n",
              "      <th>FIPS Code</th>\n",
              "      <th>Total deaths</th>\n",
              "      <th>COVID-19 Deaths</th>\n",
              "      <th>Non-Hispanic White</th>\n",
              "      <th>Non-Hispanic Black</th>\n",
              "      <th>Non-Hispanic American Indian or Alaska Native</th>\n",
              "      <th>Non-Hispanic Asian</th>\n",
              "      <th>Non-Hispanic Native Hawaiian or Other Pacific Islander</th>\n",
              "      <th>Hispanic</th>\n",
              "      <th>Other</th>\n",
              "    </tr>\n",
              "  </thead>\n",
              "  <tbody>\n",
              "    <tr>\n",
              "      <th>count</th>\n",
              "      <td>2199.00</td>\n",
              "      <td>2199.00</td>\n",
              "      <td>2199.00</td>\n",
              "      <td>2199.00</td>\n",
              "      <td>2199.00</td>\n",
              "      <td>2199.00</td>\n",
              "      <td>2197.00</td>\n",
              "      <td>1896.00</td>\n",
              "      <td>1032.00</td>\n",
              "      <td>1375.00</td>\n",
              "      <td>809.00</td>\n",
              "      <td>1744.00</td>\n",
              "      <td>1121.00</td>\n",
              "    </tr>\n",
              "    <tr>\n",
              "      <th>mean</th>\n",
              "      <td>3.16</td>\n",
              "      <td>29.26</td>\n",
              "      <td>104.07</td>\n",
              "      <td>29366.01</td>\n",
              "      <td>4482.26</td>\n",
              "      <td>631.05</td>\n",
              "      <td>0.73</td>\n",
              "      <td>0.14</td>\n",
              "      <td>0.02</td>\n",
              "      <td>0.03</td>\n",
              "      <td>0.00</td>\n",
              "      <td>0.12</td>\n",
              "      <td>0.02</td>\n",
              "    </tr>\n",
              "    <tr>\n",
              "      <th>std</th>\n",
              "      <td>1.26</td>\n",
              "      <td>15.80</td>\n",
              "      <td>129.44</td>\n",
              "      <td>15830.18</td>\n",
              "      <td>6753.81</td>\n",
              "      <td>1200.19</td>\n",
              "      <td>0.20</td>\n",
              "      <td>0.15</td>\n",
              "      <td>0.08</td>\n",
              "      <td>0.05</td>\n",
              "      <td>0.01</td>\n",
              "      <td>0.15</td>\n",
              "      <td>0.02</td>\n",
              "    </tr>\n",
              "    <tr>\n",
              "      <th>min</th>\n",
              "      <td>1.00</td>\n",
              "      <td>1.00</td>\n",
              "      <td>1.00</td>\n",
              "      <td>1003.00</td>\n",
              "      <td>430.00</td>\n",
              "      <td>101.00</td>\n",
              "      <td>0.02</td>\n",
              "      <td>0.00</td>\n",
              "      <td>0.00</td>\n",
              "      <td>0.00</td>\n",
              "      <td>0.00</td>\n",
              "      <td>0.00</td>\n",
              "      <td>0.00</td>\n",
              "    </tr>\n",
              "    <tr>\n",
              "      <th>25%</th>\n",
              "      <td>2.00</td>\n",
              "      <td>16.00</td>\n",
              "      <td>29.00</td>\n",
              "      <td>16019.00</td>\n",
              "      <td>1380.00</td>\n",
              "      <td>163.00</td>\n",
              "      <td>0.61</td>\n",
              "      <td>0.04</td>\n",
              "      <td>0.00</td>\n",
              "      <td>0.01</td>\n",
              "      <td>0.00</td>\n",
              "      <td>0.03</td>\n",
              "      <td>0.01</td>\n",
              "    </tr>\n",
              "    <tr>\n",
              "      <th>50%</th>\n",
              "      <td>3.00</td>\n",
              "      <td>29.00</td>\n",
              "      <td>71.00</td>\n",
              "      <td>29161.00</td>\n",
              "      <td>2289.00</td>\n",
              "      <td>277.00</td>\n",
              "      <td>0.78</td>\n",
              "      <td>0.09</td>\n",
              "      <td>0.00</td>\n",
              "      <td>0.02</td>\n",
              "      <td>0.00</td>\n",
              "      <td>0.06</td>\n",
              "      <td>0.02</td>\n",
              "    </tr>\n",
              "    <tr>\n",
              "      <th>75%</th>\n",
              "      <td>4.00</td>\n",
              "      <td>42.00</td>\n",
              "      <td>123.00</td>\n",
              "      <td>42087.00</td>\n",
              "      <td>4975.00</td>\n",
              "      <td>599.00</td>\n",
              "      <td>0.90</td>\n",
              "      <td>0.20</td>\n",
              "      <td>0.01</td>\n",
              "      <td>0.04</td>\n",
              "      <td>0.00</td>\n",
              "      <td>0.14</td>\n",
              "      <td>0.02</td>\n",
              "    </tr>\n",
              "    <tr>\n",
              "      <th>max</th>\n",
              "      <td>6.00</td>\n",
              "      <td>56.00</td>\n",
              "      <td>840.00</td>\n",
              "      <td>56025.00</td>\n",
              "      <td>101249.00</td>\n",
              "      <td>19846.00</td>\n",
              "      <td>1.00</td>\n",
              "      <td>0.81</td>\n",
              "      <td>0.93</td>\n",
              "      <td>0.53</td>\n",
              "      <td>0.24</td>\n",
              "      <td>0.99</td>\n",
              "      <td>0.25</td>\n",
              "    </tr>\n",
              "  </tbody>\n",
              "</table>\n",
              "</div>"
            ],
            "text/plain": [
              "       Urban Rural Code  FIPS State  ...  Hispanic   Other\n",
              "count           2199.00     2199.00  ...   1744.00 1121.00\n",
              "mean               3.16       29.26  ...      0.12    0.02\n",
              "std                1.26       15.80  ...      0.15    0.02\n",
              "min                1.00        1.00  ...      0.00    0.00\n",
              "25%                2.00       16.00  ...      0.03    0.01\n",
              "50%                3.00       29.00  ...      0.06    0.02\n",
              "75%                4.00       42.00  ...      0.14    0.02\n",
              "max                6.00       56.00  ...      0.99    0.25\n",
              "\n",
              "[8 rows x 13 columns]"
            ]
          },
          "metadata": {
            "tags": []
          },
          "execution_count": 239
        }
      ]
    },
    {
      "cell_type": "code",
      "metadata": {
        "colab": {
          "base_uri": "https://localhost:8080/"
        },
        "id": "8TozLOJZRA2r",
        "outputId": "a5f66133-f44d-4cba-e4fb-dadfa4b29806"
      },
      "source": [
        "#Remove No needed columns in the analysis\n",
        "del data['Data as of']\n",
        "del data['Start Date']\n",
        "del data['End Date']\n",
        "del data['Urban Rural Code']\n",
        "del data['FIPS State']\n",
        "del data['FIPS County']\n",
        "del data['FIPS Code']\n",
        "del data['Urban Rural Description']\n",
        "del data['Other']\n",
        "del data['Footnote']\n",
        "\n",
        "\n",
        "#check again the num of rows and columns\n",
        "data.shape"
      ],
      "execution_count": 240,
      "outputs": [
        {
          "output_type": "execute_result",
          "data": {
            "text/plain": [
              "(2199, 11)"
            ]
          },
          "metadata": {
            "tags": []
          },
          "execution_count": 240
        }
      ]
    },
    {
      "cell_type": "code",
      "metadata": {
        "colab": {
          "base_uri": "https://localhost:8080/",
          "height": 425
        },
        "id": "JhL1eiEDUU0y",
        "outputId": "ba86edf5-01ff-4247-9f11-e60deeda01a6"
      },
      "source": [
        "#Preview of my data frame\n",
        "data.head()"
      ],
      "execution_count": 241,
      "outputs": [
        {
          "output_type": "execute_result",
          "data": {
            "text/html": [
              "<div>\n",
              "<style scoped>\n",
              "    .dataframe tbody tr th:only-of-type {\n",
              "        vertical-align: middle;\n",
              "    }\n",
              "\n",
              "    .dataframe tbody tr th {\n",
              "        vertical-align: top;\n",
              "    }\n",
              "\n",
              "    .dataframe thead th {\n",
              "        text-align: right;\n",
              "    }\n",
              "</style>\n",
              "<table border=\"1\" class=\"dataframe\">\n",
              "  <thead>\n",
              "    <tr style=\"text-align: right;\">\n",
              "      <th></th>\n",
              "      <th>State</th>\n",
              "      <th>County Name</th>\n",
              "      <th>Indicator</th>\n",
              "      <th>Total deaths</th>\n",
              "      <th>COVID-19 Deaths</th>\n",
              "      <th>Non-Hispanic White</th>\n",
              "      <th>Non-Hispanic Black</th>\n",
              "      <th>Non-Hispanic American Indian or Alaska Native</th>\n",
              "      <th>Non-Hispanic Asian</th>\n",
              "      <th>Non-Hispanic Native Hawaiian or Other Pacific Islander</th>\n",
              "      <th>Hispanic</th>\n",
              "    </tr>\n",
              "  </thead>\n",
              "  <tbody>\n",
              "    <tr>\n",
              "      <th>0</th>\n",
              "      <td>AK</td>\n",
              "      <td>Anchorage Municipality</td>\n",
              "      <td>Distribution of all-cause deaths (%)</td>\n",
              "      <td>2662</td>\n",
              "      <td>182</td>\n",
              "      <td>0.58</td>\n",
              "      <td>0.05</td>\n",
              "      <td>0.21</td>\n",
              "      <td>0.06</td>\n",
              "      <td>0.03</td>\n",
              "      <td>0.03</td>\n",
              "    </tr>\n",
              "    <tr>\n",
              "      <th>1</th>\n",
              "      <td>AK</td>\n",
              "      <td>Anchorage Municipality</td>\n",
              "      <td>Distribution of COVID-19 deaths (%)</td>\n",
              "      <td>2662</td>\n",
              "      <td>182</td>\n",
              "      <td>0.32</td>\n",
              "      <td>nan</td>\n",
              "      <td>0.34</td>\n",
              "      <td>0.15</td>\n",
              "      <td>0.09</td>\n",
              "      <td>nan</td>\n",
              "    </tr>\n",
              "    <tr>\n",
              "      <th>2</th>\n",
              "      <td>AK</td>\n",
              "      <td>Anchorage Municipality</td>\n",
              "      <td>Distribution of population (%)</td>\n",
              "      <td>2662</td>\n",
              "      <td>182</td>\n",
              "      <td>0.56</td>\n",
              "      <td>0.05</td>\n",
              "      <td>0.08</td>\n",
              "      <td>0.10</td>\n",
              "      <td>0.03</td>\n",
              "      <td>0.09</td>\n",
              "    </tr>\n",
              "    <tr>\n",
              "      <th>3</th>\n",
              "      <td>AL</td>\n",
              "      <td>Baldwin County</td>\n",
              "      <td>Distribution of all-cause deaths (%)</td>\n",
              "      <td>2806</td>\n",
              "      <td>240</td>\n",
              "      <td>0.90</td>\n",
              "      <td>0.08</td>\n",
              "      <td>nan</td>\n",
              "      <td>nan</td>\n",
              "      <td>nan</td>\n",
              "      <td>0.01</td>\n",
              "    </tr>\n",
              "    <tr>\n",
              "      <th>4</th>\n",
              "      <td>AL</td>\n",
              "      <td>Baldwin County</td>\n",
              "      <td>Distribution of COVID-19 deaths (%)</td>\n",
              "      <td>2806</td>\n",
              "      <td>240</td>\n",
              "      <td>0.86</td>\n",
              "      <td>0.12</td>\n",
              "      <td>nan</td>\n",
              "      <td>nan</td>\n",
              "      <td>nan</td>\n",
              "      <td>nan</td>\n",
              "    </tr>\n",
              "  </tbody>\n",
              "</table>\n",
              "</div>"
            ],
            "text/plain": [
              "  State  ... Hispanic\n",
              "0    AK  ...     0.03\n",
              "1    AK  ...      nan\n",
              "2    AK  ...     0.09\n",
              "3    AL  ...     0.01\n",
              "4    AL  ...      nan\n",
              "\n",
              "[5 rows x 11 columns]"
            ]
          },
          "metadata": {
            "tags": []
          },
          "execution_count": 241
        }
      ]
    },
    {
      "cell_type": "code",
      "metadata": {
        "colab": {
          "base_uri": "https://localhost:8080/",
          "height": 425
        },
        "id": "AcP-HCYZWQu3",
        "outputId": "417ea4ac-eb64-4a34-ad5f-d13ce5c32ccb"
      },
      "source": [
        "#Preview last rows of my data frame\n",
        "data.tail(5)"
      ],
      "execution_count": 242,
      "outputs": [
        {
          "output_type": "execute_result",
          "data": {
            "text/html": [
              "<div>\n",
              "<style scoped>\n",
              "    .dataframe tbody tr th:only-of-type {\n",
              "        vertical-align: middle;\n",
              "    }\n",
              "\n",
              "    .dataframe tbody tr th {\n",
              "        vertical-align: top;\n",
              "    }\n",
              "\n",
              "    .dataframe thead th {\n",
              "        text-align: right;\n",
              "    }\n",
              "</style>\n",
              "<table border=\"1\" class=\"dataframe\">\n",
              "  <thead>\n",
              "    <tr style=\"text-align: right;\">\n",
              "      <th></th>\n",
              "      <th>State</th>\n",
              "      <th>County Name</th>\n",
              "      <th>Indicator</th>\n",
              "      <th>Total deaths</th>\n",
              "      <th>COVID-19 Deaths</th>\n",
              "      <th>Non-Hispanic White</th>\n",
              "      <th>Non-Hispanic Black</th>\n",
              "      <th>Non-Hispanic American Indian or Alaska Native</th>\n",
              "      <th>Non-Hispanic Asian</th>\n",
              "      <th>Non-Hispanic Native Hawaiian or Other Pacific Islander</th>\n",
              "      <th>Hispanic</th>\n",
              "    </tr>\n",
              "  </thead>\n",
              "  <tbody>\n",
              "    <tr>\n",
              "      <th>2194</th>\n",
              "      <td>WY</td>\n",
              "      <td>Laramie County</td>\n",
              "      <td>Distribution of COVID-19 deaths (%)</td>\n",
              "      <td>1200</td>\n",
              "      <td>117</td>\n",
              "      <td>0.75</td>\n",
              "      <td>nan</td>\n",
              "      <td>nan</td>\n",
              "      <td>nan</td>\n",
              "      <td>nan</td>\n",
              "      <td>0.20</td>\n",
              "    </tr>\n",
              "    <tr>\n",
              "      <th>2195</th>\n",
              "      <td>WY</td>\n",
              "      <td>Laramie County</td>\n",
              "      <td>Distribution of population (%)</td>\n",
              "      <td>1200</td>\n",
              "      <td>117</td>\n",
              "      <td>0.79</td>\n",
              "      <td>0.02</td>\n",
              "      <td>0.01</td>\n",
              "      <td>0.01</td>\n",
              "      <td>0.00</td>\n",
              "      <td>0.15</td>\n",
              "    </tr>\n",
              "    <tr>\n",
              "      <th>2196</th>\n",
              "      <td>WY</td>\n",
              "      <td>Natrona County</td>\n",
              "      <td>Distribution of all-cause deaths (%)</td>\n",
              "      <td>1253</td>\n",
              "      <td>174</td>\n",
              "      <td>0.91</td>\n",
              "      <td>0.01</td>\n",
              "      <td>0.04</td>\n",
              "      <td>nan</td>\n",
              "      <td>nan</td>\n",
              "      <td>0.04</td>\n",
              "    </tr>\n",
              "    <tr>\n",
              "      <th>2197</th>\n",
              "      <td>WY</td>\n",
              "      <td>Natrona County</td>\n",
              "      <td>Distribution of COVID-19 deaths (%)</td>\n",
              "      <td>1253</td>\n",
              "      <td>174</td>\n",
              "      <td>0.81</td>\n",
              "      <td>nan</td>\n",
              "      <td>0.12</td>\n",
              "      <td>nan</td>\n",
              "      <td>nan</td>\n",
              "      <td>0.06</td>\n",
              "    </tr>\n",
              "    <tr>\n",
              "      <th>2198</th>\n",
              "      <td>WY</td>\n",
              "      <td>Natrona County</td>\n",
              "      <td>Distribution of population (%)</td>\n",
              "      <td>1253</td>\n",
              "      <td>174</td>\n",
              "      <td>0.86</td>\n",
              "      <td>0.01</td>\n",
              "      <td>0.01</td>\n",
              "      <td>0.01</td>\n",
              "      <td>0.00</td>\n",
              "      <td>0.09</td>\n",
              "    </tr>\n",
              "  </tbody>\n",
              "</table>\n",
              "</div>"
            ],
            "text/plain": [
              "     State  ... Hispanic\n",
              "2194    WY  ...     0.20\n",
              "2195    WY  ...     0.15\n",
              "2196    WY  ...     0.04\n",
              "2197    WY  ...     0.06\n",
              "2198    WY  ...     0.09\n",
              "\n",
              "[5 rows x 11 columns]"
            ]
          },
          "metadata": {
            "tags": []
          },
          "execution_count": 242
        }
      ]
    },
    {
      "cell_type": "code",
      "metadata": {
        "colab": {
          "base_uri": "https://localhost:8080/",
          "height": 425
        },
        "id": "N68t8E9CSE3b",
        "outputId": "c479ced1-857e-44d7-85b3-00a11879f471"
      },
      "source": [
        "#Get the mean for each column\n",
        "column_means = data.mean()\n",
        "#Replace empty NaN values with the mean for each column\n",
        "data.fillna(column_means, inplace=True)\n",
        "#check again my data frame\n",
        "data.head()"
      ],
      "execution_count": 243,
      "outputs": [
        {
          "output_type": "execute_result",
          "data": {
            "text/html": [
              "<div>\n",
              "<style scoped>\n",
              "    .dataframe tbody tr th:only-of-type {\n",
              "        vertical-align: middle;\n",
              "    }\n",
              "\n",
              "    .dataframe tbody tr th {\n",
              "        vertical-align: top;\n",
              "    }\n",
              "\n",
              "    .dataframe thead th {\n",
              "        text-align: right;\n",
              "    }\n",
              "</style>\n",
              "<table border=\"1\" class=\"dataframe\">\n",
              "  <thead>\n",
              "    <tr style=\"text-align: right;\">\n",
              "      <th></th>\n",
              "      <th>State</th>\n",
              "      <th>County Name</th>\n",
              "      <th>Indicator</th>\n",
              "      <th>Total deaths</th>\n",
              "      <th>COVID-19 Deaths</th>\n",
              "      <th>Non-Hispanic White</th>\n",
              "      <th>Non-Hispanic Black</th>\n",
              "      <th>Non-Hispanic American Indian or Alaska Native</th>\n",
              "      <th>Non-Hispanic Asian</th>\n",
              "      <th>Non-Hispanic Native Hawaiian or Other Pacific Islander</th>\n",
              "      <th>Hispanic</th>\n",
              "    </tr>\n",
              "  </thead>\n",
              "  <tbody>\n",
              "    <tr>\n",
              "      <th>0</th>\n",
              "      <td>AK</td>\n",
              "      <td>Anchorage Municipality</td>\n",
              "      <td>Distribution of all-cause deaths (%)</td>\n",
              "      <td>2662</td>\n",
              "      <td>182</td>\n",
              "      <td>0.58</td>\n",
              "      <td>0.05</td>\n",
              "      <td>0.21</td>\n",
              "      <td>0.06</td>\n",
              "      <td>0.03</td>\n",
              "      <td>0.03</td>\n",
              "    </tr>\n",
              "    <tr>\n",
              "      <th>1</th>\n",
              "      <td>AK</td>\n",
              "      <td>Anchorage Municipality</td>\n",
              "      <td>Distribution of COVID-19 deaths (%)</td>\n",
              "      <td>2662</td>\n",
              "      <td>182</td>\n",
              "      <td>0.32</td>\n",
              "      <td>0.14</td>\n",
              "      <td>0.34</td>\n",
              "      <td>0.15</td>\n",
              "      <td>0.09</td>\n",
              "      <td>0.12</td>\n",
              "    </tr>\n",
              "    <tr>\n",
              "      <th>2</th>\n",
              "      <td>AK</td>\n",
              "      <td>Anchorage Municipality</td>\n",
              "      <td>Distribution of population (%)</td>\n",
              "      <td>2662</td>\n",
              "      <td>182</td>\n",
              "      <td>0.56</td>\n",
              "      <td>0.05</td>\n",
              "      <td>0.08</td>\n",
              "      <td>0.10</td>\n",
              "      <td>0.03</td>\n",
              "      <td>0.09</td>\n",
              "    </tr>\n",
              "    <tr>\n",
              "      <th>3</th>\n",
              "      <td>AL</td>\n",
              "      <td>Baldwin County</td>\n",
              "      <td>Distribution of all-cause deaths (%)</td>\n",
              "      <td>2806</td>\n",
              "      <td>240</td>\n",
              "      <td>0.90</td>\n",
              "      <td>0.08</td>\n",
              "      <td>0.02</td>\n",
              "      <td>0.03</td>\n",
              "      <td>0.00</td>\n",
              "      <td>0.01</td>\n",
              "    </tr>\n",
              "    <tr>\n",
              "      <th>4</th>\n",
              "      <td>AL</td>\n",
              "      <td>Baldwin County</td>\n",
              "      <td>Distribution of COVID-19 deaths (%)</td>\n",
              "      <td>2806</td>\n",
              "      <td>240</td>\n",
              "      <td>0.86</td>\n",
              "      <td>0.12</td>\n",
              "      <td>0.02</td>\n",
              "      <td>0.03</td>\n",
              "      <td>0.00</td>\n",
              "      <td>0.12</td>\n",
              "    </tr>\n",
              "  </tbody>\n",
              "</table>\n",
              "</div>"
            ],
            "text/plain": [
              "  State  ... Hispanic\n",
              "0    AK  ...     0.03\n",
              "1    AK  ...     0.12\n",
              "2    AK  ...     0.09\n",
              "3    AL  ...     0.01\n",
              "4    AL  ...     0.12\n",
              "\n",
              "[5 rows x 11 columns]"
            ]
          },
          "metadata": {
            "tags": []
          },
          "execution_count": 243
        }
      ]
    },
    {
      "cell_type": "code",
      "metadata": {
        "id": "Hc5K24_bTMj3",
        "colab": {
          "base_uri": "https://localhost:8080/",
          "height": 425
        },
        "outputId": "be5c5131-c1bb-4be8-f1af-64792fbbba0e"
      },
      "source": [
        "#Drop rows with empty values \n",
        "data.dropna(inplace=True)\n",
        "\n",
        "#Check for duplicated values\n",
        "data.duplicated()\n",
        "\n",
        "#Delete duplicates\n",
        "data.drop_duplicates(inplace = True)\n",
        "\n",
        "#Check again my data frame\n",
        "data.head(5)"
      ],
      "execution_count": 244,
      "outputs": [
        {
          "output_type": "execute_result",
          "data": {
            "text/html": [
              "<div>\n",
              "<style scoped>\n",
              "    .dataframe tbody tr th:only-of-type {\n",
              "        vertical-align: middle;\n",
              "    }\n",
              "\n",
              "    .dataframe tbody tr th {\n",
              "        vertical-align: top;\n",
              "    }\n",
              "\n",
              "    .dataframe thead th {\n",
              "        text-align: right;\n",
              "    }\n",
              "</style>\n",
              "<table border=\"1\" class=\"dataframe\">\n",
              "  <thead>\n",
              "    <tr style=\"text-align: right;\">\n",
              "      <th></th>\n",
              "      <th>State</th>\n",
              "      <th>County Name</th>\n",
              "      <th>Indicator</th>\n",
              "      <th>Total deaths</th>\n",
              "      <th>COVID-19 Deaths</th>\n",
              "      <th>Non-Hispanic White</th>\n",
              "      <th>Non-Hispanic Black</th>\n",
              "      <th>Non-Hispanic American Indian or Alaska Native</th>\n",
              "      <th>Non-Hispanic Asian</th>\n",
              "      <th>Non-Hispanic Native Hawaiian or Other Pacific Islander</th>\n",
              "      <th>Hispanic</th>\n",
              "    </tr>\n",
              "  </thead>\n",
              "  <tbody>\n",
              "    <tr>\n",
              "      <th>0</th>\n",
              "      <td>AK</td>\n",
              "      <td>Anchorage Municipality</td>\n",
              "      <td>Distribution of all-cause deaths (%)</td>\n",
              "      <td>2662</td>\n",
              "      <td>182</td>\n",
              "      <td>0.58</td>\n",
              "      <td>0.05</td>\n",
              "      <td>0.21</td>\n",
              "      <td>0.06</td>\n",
              "      <td>0.03</td>\n",
              "      <td>0.03</td>\n",
              "    </tr>\n",
              "    <tr>\n",
              "      <th>1</th>\n",
              "      <td>AK</td>\n",
              "      <td>Anchorage Municipality</td>\n",
              "      <td>Distribution of COVID-19 deaths (%)</td>\n",
              "      <td>2662</td>\n",
              "      <td>182</td>\n",
              "      <td>0.32</td>\n",
              "      <td>0.14</td>\n",
              "      <td>0.34</td>\n",
              "      <td>0.15</td>\n",
              "      <td>0.09</td>\n",
              "      <td>0.12</td>\n",
              "    </tr>\n",
              "    <tr>\n",
              "      <th>2</th>\n",
              "      <td>AK</td>\n",
              "      <td>Anchorage Municipality</td>\n",
              "      <td>Distribution of population (%)</td>\n",
              "      <td>2662</td>\n",
              "      <td>182</td>\n",
              "      <td>0.56</td>\n",
              "      <td>0.05</td>\n",
              "      <td>0.08</td>\n",
              "      <td>0.10</td>\n",
              "      <td>0.03</td>\n",
              "      <td>0.09</td>\n",
              "    </tr>\n",
              "    <tr>\n",
              "      <th>3</th>\n",
              "      <td>AL</td>\n",
              "      <td>Baldwin County</td>\n",
              "      <td>Distribution of all-cause deaths (%)</td>\n",
              "      <td>2806</td>\n",
              "      <td>240</td>\n",
              "      <td>0.90</td>\n",
              "      <td>0.08</td>\n",
              "      <td>0.02</td>\n",
              "      <td>0.03</td>\n",
              "      <td>0.00</td>\n",
              "      <td>0.01</td>\n",
              "    </tr>\n",
              "    <tr>\n",
              "      <th>4</th>\n",
              "      <td>AL</td>\n",
              "      <td>Baldwin County</td>\n",
              "      <td>Distribution of COVID-19 deaths (%)</td>\n",
              "      <td>2806</td>\n",
              "      <td>240</td>\n",
              "      <td>0.86</td>\n",
              "      <td>0.12</td>\n",
              "      <td>0.02</td>\n",
              "      <td>0.03</td>\n",
              "      <td>0.00</td>\n",
              "      <td>0.12</td>\n",
              "    </tr>\n",
              "  </tbody>\n",
              "</table>\n",
              "</div>"
            ],
            "text/plain": [
              "  State  ... Hispanic\n",
              "0    AK  ...     0.03\n",
              "1    AK  ...     0.12\n",
              "2    AK  ...     0.09\n",
              "3    AL  ...     0.01\n",
              "4    AL  ...     0.12\n",
              "\n",
              "[5 rows x 11 columns]"
            ]
          },
          "metadata": {
            "tags": []
          },
          "execution_count": 244
        }
      ]
    },
    {
      "cell_type": "code",
      "metadata": {
        "colab": {
          "base_uri": "https://localhost:8080/"
        },
        "id": "TyDBf6pPUtO7",
        "outputId": "4c61848e-1ec7-4336-8d82-8fd7f84859d3"
      },
      "source": [
        "#Now that we have our data set clean, we apply correlation to our data frame\n",
        "data.corr "
      ],
      "execution_count": 245,
      "outputs": [
        {
          "output_type": "execute_result",
          "data": {
            "text/plain": [
              "<bound method DataFrame.corr of      State  ... Hispanic\n",
              "0       AK  ...     0.03\n",
              "1       AK  ...     0.12\n",
              "2       AK  ...     0.09\n",
              "3       AL  ...     0.01\n",
              "4       AL  ...     0.12\n",
              "...    ...  ...      ...\n",
              "2194    WY  ...     0.20\n",
              "2195    WY  ...     0.15\n",
              "2196    WY  ...     0.04\n",
              "2197    WY  ...     0.06\n",
              "2198    WY  ...     0.09\n",
              "\n",
              "[2199 rows x 11 columns]>"
            ]
          },
          "metadata": {
            "tags": []
          },
          "execution_count": 245
        }
      ]
    },
    {
      "cell_type": "code",
      "metadata": {
        "colab": {
          "base_uri": "https://localhost:8080/"
        },
        "id": "I3UJ_ZNKuXzY",
        "outputId": "2ad9114d-fddf-40ae-b2d8-5b7f96d04af6"
      },
      "source": [
        "#Rename the columns for easier process \n",
        "new_name_dic = {'Non-Hispanic White': 'White',\n",
        "                'Non-Hispanic Black': 'Black',\n",
        "                'Non-Hispanic American Indian or Alaska Native': 'American Indian or Alaska Native', \n",
        "                'Non-Hispanic Asian' : 'Asian',\n",
        "                'Non-Hispanic Native Hawaiian or Other Pacific Islander' : 'Hawaiian or Pacific Islander'}\n",
        "data.rename(columns=new_name_dic, inplace= True)\n",
        "data.columns"
      ],
      "execution_count": 246,
      "outputs": [
        {
          "output_type": "execute_result",
          "data": {
            "text/plain": [
              "Index(['State', 'County Name', 'Indicator', 'Total deaths', 'COVID-19 Deaths',\n",
              "       'White', 'Black', 'American Indian or Alaska Native', 'Asian',\n",
              "       'Hawaiian or Pacific Islander', 'Hispanic'],\n",
              "      dtype='object')"
            ]
          },
          "metadata": {
            "tags": []
          },
          "execution_count": 246
        }
      ]
    },
    {
      "cell_type": "code",
      "metadata": {
        "colab": {
          "base_uri": "https://localhost:8080/",
          "height": 357
        },
        "id": "dWRucGaKvJhl",
        "outputId": "65d8edc2-d886-4c03-fbf7-0c7f0bea45e9"
      },
      "source": [
        "data.head()"
      ],
      "execution_count": 247,
      "outputs": [
        {
          "output_type": "execute_result",
          "data": {
            "text/html": [
              "<div>\n",
              "<style scoped>\n",
              "    .dataframe tbody tr th:only-of-type {\n",
              "        vertical-align: middle;\n",
              "    }\n",
              "\n",
              "    .dataframe tbody tr th {\n",
              "        vertical-align: top;\n",
              "    }\n",
              "\n",
              "    .dataframe thead th {\n",
              "        text-align: right;\n",
              "    }\n",
              "</style>\n",
              "<table border=\"1\" class=\"dataframe\">\n",
              "  <thead>\n",
              "    <tr style=\"text-align: right;\">\n",
              "      <th></th>\n",
              "      <th>State</th>\n",
              "      <th>County Name</th>\n",
              "      <th>Indicator</th>\n",
              "      <th>Total deaths</th>\n",
              "      <th>COVID-19 Deaths</th>\n",
              "      <th>White</th>\n",
              "      <th>Black</th>\n",
              "      <th>American Indian or Alaska Native</th>\n",
              "      <th>Asian</th>\n",
              "      <th>Hawaiian or Pacific Islander</th>\n",
              "      <th>Hispanic</th>\n",
              "    </tr>\n",
              "  </thead>\n",
              "  <tbody>\n",
              "    <tr>\n",
              "      <th>0</th>\n",
              "      <td>AK</td>\n",
              "      <td>Anchorage Municipality</td>\n",
              "      <td>Distribution of all-cause deaths (%)</td>\n",
              "      <td>2662</td>\n",
              "      <td>182</td>\n",
              "      <td>0.58</td>\n",
              "      <td>0.05</td>\n",
              "      <td>0.21</td>\n",
              "      <td>0.06</td>\n",
              "      <td>0.03</td>\n",
              "      <td>0.03</td>\n",
              "    </tr>\n",
              "    <tr>\n",
              "      <th>1</th>\n",
              "      <td>AK</td>\n",
              "      <td>Anchorage Municipality</td>\n",
              "      <td>Distribution of COVID-19 deaths (%)</td>\n",
              "      <td>2662</td>\n",
              "      <td>182</td>\n",
              "      <td>0.32</td>\n",
              "      <td>0.14</td>\n",
              "      <td>0.34</td>\n",
              "      <td>0.15</td>\n",
              "      <td>0.09</td>\n",
              "      <td>0.12</td>\n",
              "    </tr>\n",
              "    <tr>\n",
              "      <th>2</th>\n",
              "      <td>AK</td>\n",
              "      <td>Anchorage Municipality</td>\n",
              "      <td>Distribution of population (%)</td>\n",
              "      <td>2662</td>\n",
              "      <td>182</td>\n",
              "      <td>0.56</td>\n",
              "      <td>0.05</td>\n",
              "      <td>0.08</td>\n",
              "      <td>0.10</td>\n",
              "      <td>0.03</td>\n",
              "      <td>0.09</td>\n",
              "    </tr>\n",
              "    <tr>\n",
              "      <th>3</th>\n",
              "      <td>AL</td>\n",
              "      <td>Baldwin County</td>\n",
              "      <td>Distribution of all-cause deaths (%)</td>\n",
              "      <td>2806</td>\n",
              "      <td>240</td>\n",
              "      <td>0.90</td>\n",
              "      <td>0.08</td>\n",
              "      <td>0.02</td>\n",
              "      <td>0.03</td>\n",
              "      <td>0.00</td>\n",
              "      <td>0.01</td>\n",
              "    </tr>\n",
              "    <tr>\n",
              "      <th>4</th>\n",
              "      <td>AL</td>\n",
              "      <td>Baldwin County</td>\n",
              "      <td>Distribution of COVID-19 deaths (%)</td>\n",
              "      <td>2806</td>\n",
              "      <td>240</td>\n",
              "      <td>0.86</td>\n",
              "      <td>0.12</td>\n",
              "      <td>0.02</td>\n",
              "      <td>0.03</td>\n",
              "      <td>0.00</td>\n",
              "      <td>0.12</td>\n",
              "    </tr>\n",
              "  </tbody>\n",
              "</table>\n",
              "</div>"
            ],
            "text/plain": [
              "  State             County Name  ... Hawaiian or Pacific Islander  Hispanic\n",
              "0    AK  Anchorage Municipality  ...                         0.03      0.03\n",
              "1    AK  Anchorage Municipality  ...                         0.09      0.12\n",
              "2    AK  Anchorage Municipality  ...                         0.03      0.09\n",
              "3    AL          Baldwin County  ...                         0.00      0.01\n",
              "4    AL          Baldwin County  ...                         0.00      0.12\n",
              "\n",
              "[5 rows x 11 columns]"
            ]
          },
          "metadata": {
            "tags": []
          },
          "execution_count": 247
        }
      ]
    },
    {
      "cell_type": "code",
      "metadata": {
        "colab": {
          "base_uri": "https://localhost:8080/",
          "height": 282
        },
        "id": "voh1EkGCx3CD",
        "outputId": "17e85172-dd70-4df2-c9a8-bd63a301e0dc"
      },
      "source": [
        "data.plot()"
      ],
      "execution_count": 248,
      "outputs": [
        {
          "output_type": "execute_result",
          "data": {
            "text/plain": [
              "<matplotlib.axes._subplots.AxesSubplot at 0x7f0b08fba350>"
            ]
          },
          "metadata": {
            "tags": []
          },
          "execution_count": 248
        },
        {
          "output_type": "display_data",
          "data": {
            "image/png": "[encoded data removed]",
            "text/plain": [
              "<Figure size 432x288 with 1 Axes>"
            ]
          },
          "metadata": {
            "tags": [],
            "needs_background": "light"
          }
        }
      ]
    },
    {
      "cell_type": "code",
      "metadata": {
        "colab": {
          "base_uri": "https://localhost:8080/",
          "height": 296
        },
        "id": "R1ap-s9EyvID",
        "outputId": "eae9786b-fa73-448f-e771-13af7d3824f6"
      },
      "source": [
        "data.plot(x=\"Total deaths\", y=\"COVID-19 Deaths\")"
      ],
      "execution_count": 249,
      "outputs": [
        {
          "output_type": "execute_result",
          "data": {
            "text/plain": [
              "<matplotlib.axes._subplots.AxesSubplot at 0x7f0b0a02acd0>"
            ]
          },
          "metadata": {
            "tags": []
          },
          "execution_count": 249
        },
        {
          "output_type": "display_data",
          "data": {
            "image/png": "[encoded data removed]",
            "text/plain": [
              "<Figure size 432x288 with 1 Axes>"
            ]
          },
          "metadata": {
            "tags": [],
            "needs_background": "light"
          }
        }
      ]
    },
    {
      "cell_type": "code",
      "metadata": {
        "colab": {
          "base_uri": "https://localhost:8080/",
          "height": 318
        },
        "id": "aR0mYyWnz8Jr",
        "outputId": "fc970de6-0624-44f2-acfa-b6dde741a18f"
      },
      "source": [
        "data.plot.bar(x=\"COVID-19 Deaths\", y=['White','Black','American Indian or Alaska Native','Asian','Hawaiian or Pacific Islander','Hispanic'])"
      ],
      "execution_count": 250,
      "outputs": [
        {
          "output_type": "execute_result",
          "data": {
            "text/plain": [
              "<matplotlib.axes._subplots.AxesSubplot at 0x7f0b0a03a990>"
            ]
          },
          "metadata": {
            "tags": []
          },
          "execution_count": 250
        },
        {
          "output_type": "display_data",
          "data": {
            "image/png": "[encoded data removed]",
            "text/plain": [
              "<Figure size 432x288 with 1 Axes>"
            ]
          },
          "metadata": {
            "tags": [],
            "needs_background": "light"
          }
        }
      ]
    },
    {
      "cell_type": "code",
      "metadata": {
        "colab": {
          "base_uri": "https://localhost:8080/",
          "height": 282
        },
        "id": "YpAuxl6Z6IpK",
        "outputId": "5e37f6db-b772-4141-cb1f-0588ee66d439"
      },
      "source": [
        "data.plot.hist(x=\"COVID-19 Deaths\", y=['White','Black','American Indian or Alaska Native','Asian','Hawaiian or Pacific Islander','Hispanic'], stacked=True, bins=10)"
      ],
      "execution_count": null,
      "outputs": [
        {
          "output_type": "execute_result",
          "data": {
            "text/plain": [
              "<matplotlib.axes._subplots.AxesSubplot at 0x7f0bbbb1f9d0>"
            ]
          },
          "metadata": {
            "tags": []
          },
          "execution_count": 215
        },
        {
          "output_type": "display_data",
          "data": {
            "image/png": "[encoded data removed]",
            "text/plain": [
              "<Figure size 432x288 with 1 Axes>"
            ]
          },
          "metadata": {
            "tags": [],
            "needs_background": "light"
          }
        }
      ]
    }
  ]
}